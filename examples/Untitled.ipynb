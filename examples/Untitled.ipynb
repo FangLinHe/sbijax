{
 "cells": [
  {
   "cell_type": "code",
   "execution_count": 59,
   "id": "662c3a49-aa2f-4105-8e18-c8fc2276785d",
   "metadata": {},
   "outputs": [
    {
     "name": "stdout",
     "output_type": "stream",
     "text": [
      "Requirement already satisfied: matplotlib in /Users/simon/miniconda3/envs/sbi-dev/lib/python3.9/site-packages (3.6.2)\n",
      "Requirement already satisfied: contourpy>=1.0.1 in /Users/simon/miniconda3/envs/sbi-dev/lib/python3.9/site-packages (from matplotlib) (1.0.7)\n",
      "Requirement already satisfied: kiwisolver>=1.0.1 in /Users/simon/miniconda3/envs/sbi-dev/lib/python3.9/site-packages (from matplotlib) (1.4.4)\n",
      "Requirement already satisfied: cycler>=0.10 in /Users/simon/miniconda3/envs/sbi-dev/lib/python3.9/site-packages (from matplotlib) (0.11.0)\n",
      "Requirement already satisfied: pillow>=6.2.0 in /Users/simon/miniconda3/envs/sbi-dev/lib/python3.9/site-packages (from matplotlib) (9.4.0)\n",
      "Requirement already satisfied: python-dateutil>=2.7 in /Users/simon/miniconda3/envs/sbi-dev/lib/python3.9/site-packages (from matplotlib) (2.8.2)\n",
      "Requirement already satisfied: numpy>=1.19 in /Users/simon/miniconda3/envs/sbi-dev/lib/python3.9/site-packages (from matplotlib) (1.24.1)\n",
      "Requirement already satisfied: packaging>=20.0 in /Users/simon/miniconda3/envs/sbi-dev/lib/python3.9/site-packages (from matplotlib) (23.0)\n",
      "Requirement already satisfied: pyparsing>=2.2.1 in /Users/simon/miniconda3/envs/sbi-dev/lib/python3.9/site-packages (from matplotlib) (3.0.9)\n",
      "Requirement already satisfied: fonttools>=4.22.0 in /Users/simon/miniconda3/envs/sbi-dev/lib/python3.9/site-packages (from matplotlib) (4.38.0)\n",
      "Requirement already satisfied: six>=1.5 in /Users/simon/miniconda3/envs/sbi-dev/lib/python3.9/site-packages (from python-dateutil>=2.7->matplotlib) (1.16.0)\n"
     ]
    }
   ],
   "source": [
    "!pip install matplotlib"
   ]
  },
  {
   "cell_type": "code",
   "execution_count": 1,
   "id": "be659041-87e1-4e08-980c-9ac4bc111929",
   "metadata": {},
   "outputs": [],
   "source": [
    "import distrax\n",
    "import haiku as hk\n",
    "import optax\n",
    "from jax import random\n",
    "from jax import numpy as jnp\n",
    "\n",
    "from surjectors.bijectors.masked_coupling import MaskedCoupling\n",
    "from surjectors.conditioners.mlp import mlp_conditioner\n",
    "from surjectors.distributions.transformed_distribution import \\\n",
    "    TransformedDistribution\n",
    "from surjectors.surjectors.chain import Chain\n",
    "from surjectors.util import make_alternating_binary_mask\n",
    "\n",
    "import matplotlib.pyplot as plt"
   ]
  },
  {
   "cell_type": "code",
   "execution_count": null,
   "id": "55437e3c-0f0e-4e01-882d-40fc1e4c9fc8",
   "metadata": {},
   "outputs": [],
   "source": []
  },
  {
   "cell_type": "code",
   "execution_count": 2,
   "id": "beab316e-fbd0-4e97-8fbd-59fa86abb23a",
   "metadata": {},
   "outputs": [],
   "source": [
    "import blackjax"
   ]
  },
  {
   "cell_type": "code",
   "execution_count": 16,
   "id": "466bab46-0151-465f-8bff-87e2b66df782",
   "metadata": {},
   "outputs": [],
   "source": [
    "def _bijector_fn(params):\n",
    "    means, log_scales = jnp.split(params, 2, -1)\n",
    "    return distrax.ScalarAffine(means, jnp.exp(log_scales))\n",
    "\n",
    "\n",
    "def _conditioner_fn(ndim_hidden_layers, n_hidden_layers, output_dim):\n",
    "    return mlp_conditioner(\n",
    "        [ndim_hidden_layers] * n_hidden_layers + [output_dim],\n",
    "    )\n",
    "\n",
    "def make_model(dim):\n",
    "    def _flow(method, **kwargs):\n",
    "        layers = []\n",
    "        for i in range(2):\n",
    "            mask = make_alternating_binary_mask(dim, i % 2 == 0)\n",
    "            output_dim = dim * 2\n",
    "            layer = MaskedCoupling(\n",
    "                mask=mask,\n",
    "                bijector=_bijector_fn,\n",
    "                conditioner=_conditioner_fn(16, 2, output_dim=output_dim),\n",
    "            )\n",
    "            layers.append(layer)\n",
    "        chain = Chain(layers)\n",
    "\n",
    "        base_distribution = distrax.Independent(\n",
    "            distrax.Normal(jnp.zeros(dim), jnp.ones(dim)),\n",
    "            reinterpreted_batch_ndims=1,\n",
    "        )\n",
    "        td = TransformedDistribution(\n",
    "            base_distribution,\n",
    "            chain\n",
    "        )\n",
    "        return td(method, **kwargs)\n",
    "\n",
    "    td = hk.transform(_flow)\n",
    "    td = hk.without_apply_rng(td)\n",
    "    return td"
   ]
  },
  {
   "cell_type": "code",
   "execution_count": 4,
   "id": "20adf465-3204-44fc-bcd3-30e7fbe9820b",
   "metadata": {},
   "outputs": [],
   "source": [
    "import numpy as np\n",
    "\n",
    "import jax\n",
    "import jax.numpy as jnp\n",
    "import jax.scipy.stats as stats\n",
    "\n",
    "\n",
    "loc, scale = 10, 20\n",
    "observed = np.random.normal(loc, scale, size=1_000).reshape(-1, 2)\n",
    "observed = jnp.asarray(observed)\n",
    "\n",
    "def logdensity_fn(loc, observed=observed):\n",
    "    logpdf = distrax.MultivariateNormalDiag(loc, jnp.ones_like(loc)).log_prob(observed)\n",
    "    return jnp.sum(logpdf)\n",
    "\n",
    "\n",
    "def logdensity(x):\n",
    "    return logdensity_fn(**x)"
   ]
  },
  {
   "cell_type": "code",
   "execution_count": 5,
   "id": "75e20f70-9bf3-4067-8221-37412a08eeca",
   "metadata": {},
   "outputs": [],
   "source": [
    "inv_mass_matrix = jnp.array([0.1, 0.1])\n",
    "step_size = 1e-3\n",
    "\n",
    "nuts = blackjax.nuts(logdensity, step_size, inv_mass_matrix)"
   ]
  },
  {
   "cell_type": "code",
   "execution_count": 6,
   "id": "40d05c32-1594-4342-871d-ee3a8a1e9fdf",
   "metadata": {},
   "outputs": [],
   "source": [
    "import multiprocessing\n",
    "\n",
    "\n",
    "rng_key = jax.random.PRNGKey(0)\n",
    "num_chains = 2"
   ]
  },
  {
   "cell_type": "code",
   "execution_count": 46,
   "id": "5814fec2-5310-41bc-bbde-6b2aeac08dbb",
   "metadata": {},
   "outputs": [],
   "source": [
    "def inference_loop_multiple_chains(\n",
    "    rng_key, kernel, initial_state, num_samples, num_chains\n",
    "):\n",
    "\n",
    "    @jax.jit\n",
    "    def one_step(states, rng_key):\n",
    "        keys = jax.random.split(rng_key, num_chains)\n",
    "        states, _ = jax.vmap(kernel)(keys, states)\n",
    "        return states, states\n",
    "\n",
    "    keys = jax.random.split(rng_key, num_samples)\n",
    "    _, states = jax.lax.scan(one_step, initial_state, keys)\n",
    "\n",
    "    return states"
   ]
  },
  {
   "cell_type": "code",
   "execution_count": 56,
   "id": "9463db71-f728-44fa-8d28-059786bf7be6",
   "metadata": {},
   "outputs": [
    {
     "data": {
      "text/plain": [
       "HMCState(position={'loc': Array([[9.597657, 9.705168],\n",
       "       [9.494497, 9.643461]], dtype=float32)}, logdensity=Array([-198516.86, -198515.08], dtype=float32), logdensity_grad={'loc': Array([[-39.751076, -20.61447 ],\n",
       "       [ 11.828781,  10.2388  ]], dtype=float32)})"
      ]
     },
     "execution_count": 56,
     "metadata": {},
     "output_type": "execute_result"
    }
   ],
   "source": [
    "initial_states"
   ]
  },
  {
   "cell_type": "code",
   "execution_count": 62,
   "id": "bc148467-9656-45bb-988c-4e944eca5f97",
   "metadata": {},
   "outputs": [
    {
     "data": {
      "text/plain": [
       "(2, 2)"
      ]
     },
     "execution_count": 62,
     "metadata": {},
     "output_type": "execute_result"
    }
   ],
   "source": [
    "jnp.ones((2,2)).shape"
   ]
  },
  {
   "cell_type": "code",
   "execution_count": 69,
   "id": "6a61c06a-684d-4467-8791-679eedac675b",
   "metadata": {},
   "outputs": [
    {
     "data": {
      "text/plain": [
       "Array([[[1. , 1. ],\n",
       "        [1. , 1. ]],\n",
       "\n",
       "       [[0.5, 0.5],\n",
       "        [0.5, 0.5]]], dtype=float32)"
      ]
     },
     "execution_count": 69,
     "metadata": {},
     "output_type": "execute_result"
    }
   ],
   "source": [
    "def pr(state, s):\n",
    "    return state / s\n",
    "    \n",
    "sss = jax.vmap(pr)(jnp.ones((2, 2, 2)), jnp.array([1, 2]))\n",
    "sss"
   ]
  },
  {
   "cell_type": "code",
   "execution_count": 70,
   "id": "726dec7c-06ee-4bb7-96aa-a946fcb58b9a",
   "metadata": {},
   "outputs": [
    {
     "data": {
      "text/plain": [
       "Array([[1., 1.],\n",
       "       [1., 1.]], dtype=float32)"
      ]
     },
     "execution_count": 70,
     "metadata": {},
     "output_type": "execute_result"
    }
   ],
   "source": [
    "sss[0]"
   ]
  },
  {
   "cell_type": "code",
   "execution_count": 37,
   "id": "b3e7dc2b-85ae-4d01-8193-89f18f09c596",
   "metadata": {},
   "outputs": [],
   "source": [
    "warmup = blackjax.window_adaptation(blackjax.nuts, logdensity)"
   ]
  },
  {
   "cell_type": "code",
   "execution_count": 41,
   "id": "50243971-0963-4d71-8f26-a9c69874155e",
   "metadata": {},
   "outputs": [],
   "source": [
    "initial_position = {\"loc\": jnp.ones((2, 2))} \n",
    "initial_states, kernel_params = jax.vmap(\n",
    "    lambda seed, param: warmup.run(seed, param)[0]\n",
    ")(random.split(random.PRNGKey(9), 2), initial_position)"
   ]
  },
  {
   "cell_type": "code",
   "execution_count": 42,
   "id": "9eeae244-276a-4ec6-9eed-39b17adb97bb",
   "metadata": {},
   "outputs": [
    {
     "data": {
      "text/plain": [
       "{'inverse_mass_matrix': Array([[0.00190683, 0.00247511],\n",
       "        [0.00218347, 0.00170437]], dtype=float32),\n",
       " 'step_size': Array([0.7588432 , 0.83141214], dtype=float32, weak_type=True)}"
      ]
     },
     "execution_count": 42,
     "metadata": {},
     "output_type": "execute_result"
    }
   ],
   "source": [
    "kernel_params"
   ]
  },
  {
   "cell_type": "code",
   "execution_count": 43,
   "id": "a6453fb1-e244-42e3-b159-c0f2e2b8fc58",
   "metadata": {},
   "outputs": [],
   "source": [
    "kernel_params = {k: v[0] for k, v in kernel_params.items()}"
   ]
  },
  {
   "cell_type": "code",
   "execution_count": 44,
   "id": "5d5c2e52-1994-4da0-ab4b-52c124416f6c",
   "metadata": {},
   "outputs": [],
   "source": [
    "_, kernel = blackjax.nuts(logdensity, **kernel_params)"
   ]
  },
  {
   "cell_type": "code",
   "execution_count": 72,
   "id": "e62c1895-99ec-424e-9a37-19b7d0892d29",
   "metadata": {},
   "outputs": [],
   "source": [
    "states = inference_loop_multiple_chains(\n",
    "    rng_key, kernel, initial_states, 2_000, 2\n",
    ")\n",
    "_ = states.position[\"loc\"].block_until_ready()"
   ]
  },
  {
   "cell_type": "code",
   "execution_count": 73,
   "id": "324db321-768d-4559-8bbc-cb96dd23ce3c",
   "metadata": {},
   "outputs": [
    {
     "data": {
      "text/plain": [
       "(2000, 2, 2)"
      ]
     },
     "execution_count": 73,
     "metadata": {},
     "output_type": "execute_result"
    }
   ],
   "source": [
    "states.position[\"loc\"].shape"
   ]
  },
  {
   "cell_type": "code",
   "execution_count": 74,
   "id": "abd46b14-8d33-458d-ace4-54cb6c75839a",
   "metadata": {},
   "outputs": [
    {
     "data": {
      "text/plain": [
       "(2000, 2)"
      ]
     },
     "execution_count": 74,
     "metadata": {},
     "output_type": "execute_result"
    }
   ],
   "source": [
    "states.position[\"loc\"][:, 0, :].shape"
   ]
  },
  {
   "cell_type": "code",
   "execution_count": 75,
   "id": "6d0ec8b5-ab7f-4e39-a2e2-a8c630a79ea1",
   "metadata": {},
   "outputs": [],
   "source": [
    "samples = states.position[\"loc\"]"
   ]
  },
  {
   "cell_type": "code",
   "execution_count": 76,
   "id": "d7051c80-f68d-41ac-9772-0446c84df6fd",
   "metadata": {},
   "outputs": [
    {
     "data": {
      "text/plain": [
       "(2000, 2, 2)"
      ]
     },
     "execution_count": 76,
     "metadata": {},
     "output_type": "execute_result"
    }
   ],
   "source": [
    "samples.shape"
   ]
  },
  {
   "cell_type": "code",
   "execution_count": 77,
   "id": "d174fcd3-fb66-4fc5-bed9-6e1d38a48222",
   "metadata": {},
   "outputs": [
    {
     "data": {
      "image/png": "[encoded data removed]",
      "text/plain": [
       "<Figure size 640x480 with 1 Axes>"
      ]
     },
     "metadata": {},
     "output_type": "display_data"
    }
   ],
   "source": [
    "plt.hist(states.position[\"loc\"][:, :, 0].flatten());"
   ]
  },
  {
   "cell_type": "code",
   "execution_count": 55,
   "id": "72f7002a-0223-4c50-8548-c4af456938fd",
   "metadata": {},
   "outputs": [
    {
     "data": {
      "image/png": "[encoded data removed]",
      "text/plain": [
       "<Figure size 640x480 with 1 Axes>"
      ]
     },
     "metadata": {},
     "output_type": "display_data"
    }
   ],
   "source": [
    "plt.hist(states.position[\"loc\"][:, 1, :].flatten());"
   ]
  },
  {
   "cell_type": "code",
   "execution_count": 81,
   "id": "cf46c93b-3afc-4cdc-a8c6-94cb95188895",
   "metadata": {},
   "outputs": [
    {
     "data": {
      "text/plain": [
       "Array(14408.24, dtype=float32)"
      ]
     },
     "execution_count": 81,
     "metadata": {},
     "output_type": "execute_result"
    }
   ],
   "source": [
    "blackjax.diagnostics.effective_sample_size(states.position[\"loc\"][:, :, 0])"
   ]
  },
  {
   "cell_type": "code",
   "execution_count": 80,
   "id": "8cc4d802-3001-474a-9e76-ee709d1a51a5",
   "metadata": {},
   "outputs": [
    {
     "data": {
      "text/plain": [
       "Array(0.9863291, dtype=float32)"
      ]
     },
     "execution_count": 80,
     "metadata": {},
     "output_type": "execute_result"
    }
   ],
   "source": [
    "blackjax.diagnostics.potential_scale_reduction(states.position[\"loc\"][:, :, 0])"
   ]
  },
  {
   "cell_type": "code",
   "execution_count": 71,
   "id": "3399be85-887a-4552-8597-844c3bd16d39",
   "metadata": {},
   "outputs": [
    {
     "ename": "NameError",
     "evalue": "name 's' is not defined",
     "output_type": "error",
     "traceback": [
      "\u001b[0;31m---------------------------------------------------------------------------\u001b[0m",
      "\u001b[0;31mNameError\u001b[0m                                 Traceback (most recent call last)",
      "Cell \u001b[0;32mIn[71], line 1\u001b[0m\n\u001b[0;32m----> 1\u001b[0m \u001b[43ms\u001b[49m\u001b[38;5;241m.\u001b[39mT\u001b[38;5;241m.\u001b[39mshape\n",
      "\u001b[0;31mNameError\u001b[0m: name 's' is not defined"
     ]
    }
   ],
   "source": [
    "s.T.shape"
   ]
  },
  {
   "cell_type": "code",
   "execution_count": null,
   "id": "c294f42b-0b7b-47b3-864f-9061e127911b",
   "metadata": {},
   "outputs": [],
   "source": []
  }
 ],
 "metadata": {
  "kernelspec": {
   "display_name": "sbi-dev",
   "language": "python",
   "name": "sbi-dev"
  },
  "language_info": {
   "codemirror_mode": {
    "name": "ipython",
    "version": 3
   },
   "file_extension": ".py",
   "mimetype": "text/x-python",
   "name": "python",
   "nbconvert_exporter": "python",
   "pygments_lexer": "ipython3",
   "version": "3.9.15"
  }
 },
 "nbformat": 4,
 "nbformat_minor": 5
}
